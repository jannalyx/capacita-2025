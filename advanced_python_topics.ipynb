{
  "nbformat": 4,
  "nbformat_minor": 0,
  "metadata": {
    "colab": {
      "provenance": []
    },
    "kernelspec": {
      "name": "python3",
      "display_name": "Python 3"
    },
    "language_info": {
      "name": "python"
    }
  },
  "cells": [
    {
      "cell_type": "markdown",
      "source": [
        "1. Escreva um código usando enumerate para exibir os índices e valores da lista [\"maçã\", \"banana\", \"uva\"]."
      ],
      "metadata": {
        "id": "0wv9XSFAI4Vg"
      }
    },
    {
      "cell_type": "code",
      "execution_count": null,
      "metadata": {
        "id": "ufWQEe63IxSY"
      },
      "outputs": [],
      "source": [
        "frutas = [\"maçã\", \"banana\", \"uva\"]\n",
        "for indice, valor in enumerate(frutas):\n",
        "    print(f\"Índice: {indice}, Valor: {valor}\")"
      ]
    },
    {
      "cell_type": "markdown",
      "source": [
        "2. Crie uma lista com os números pares de 1 a 10 usando List Comprehension."
      ],
      "metadata": {
        "id": "x1ZqlRh_cZ19"
      }
    },
    {
      "cell_type": "code",
      "source": [
        "pares = [num for num in range(1, 11) if num % 2 == 0]\n",
        "print(pares)"
      ],
      "metadata": {
        "id": "dusVFqoAI_Hv"
      },
      "execution_count": null,
      "outputs": []
    },
    {
      "cell_type": "markdown",
      "source": [
        "3. Escreva um programa que use map para multiplicar cada elemento da lista [1, 2, 3, 4] por 3."
      ],
      "metadata": {
        "id": "kCu3oJNVccHc"
      }
    },
    {
      "cell_type": "code",
      "source": [
        "lista = [1, 2, 3, 4]\n",
        "resultados = list(map(lambda x: x * 3, lista))\n",
        "print(resultados)"
      ],
      "metadata": {
        "id": "RwxlHL0NI_Ek"
      },
      "execution_count": null,
      "outputs": []
    },
    {
      "cell_type": "markdown",
      "source": [
        "4. Escreva um programa que use enumerate e List Comprehension para criar uma lista de tuplas com os índices e valores ao quadrado de [2, 4, 6]"
      ],
      "metadata": {
        "id": "zMH4kmoAcry8"
      }
    },
    {
      "cell_type": "code",
      "source": [
        "numeros = [2, 4, 6]\n",
        "resultado = [(indice, valor**2) for indice, valor in enumerate(numeros)]\n",
        "print(resultado)"
      ],
      "metadata": {
        "id": "tg_vKAJbI_Bc"
      },
      "execution_count": null,
      "outputs": []
    }
  ]
}