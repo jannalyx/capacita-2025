{
  "nbformat": 4,
  "nbformat_minor": 0,
  "metadata": {
    "colab": {
      "provenance": []
    },
    "kernelspec": {
      "name": "python3",
      "display_name": "Python 3"
    },
    "language_info": {
      "name": "python"
    }
  },
  "cells": [
    {
      "cell_type": "markdown",
      "source": [
        "1. Crie um programa que use um laço for para imprimir os números de 1 a 5 no console."
      ],
      "metadata": {
        "id": "O_4m-QO0DBZi"
      }
    },
    {
      "cell_type": "code",
      "execution_count": null,
      "metadata": {
        "colab": {
          "base_uri": "https://localhost:8080/"
        },
        "id": "yTaddfiwC-Js",
        "outputId": "8043f376-941e-496e-c42e-c4f63da365dd"
      },
      "outputs": [
        {
          "output_type": "stream",
          "name": "stdout",
          "text": [
            "1\n",
            "2\n",
            "3\n",
            "4\n",
            "5\n"
          ]
        }
      ],
      "source": [
        "for i in range(1, 6):\n",
        "    print(i)"
      ]
    },
    {
      "cell_type": "markdown",
      "source": [
        "2. Escreva um programa que declare uma lista com os números [10, 20, 30, 40, 50] e exiba o primeiro elemento."
      ],
      "metadata": {
        "id": "Qmyiw2uTQMab"
      }
    },
    {
      "cell_type": "code",
      "source": [
        "lista = [10, 20, 30, 40, 50]\n",
        "print(lista[0])"
      ],
      "metadata": {
        "colab": {
          "base_uri": "https://localhost:8080/"
        },
        "id": "CeVxYw5kDO5m",
        "outputId": "055f6ff6-4bd6-4184-8cce-cd0f3cde1121"
      },
      "execution_count": null,
      "outputs": [
        {
          "output_type": "stream",
          "name": "stdout",
          "text": [
            "10\n"
          ]
        }
      ]
    },
    {
      "cell_type": "markdown",
      "source": [
        "3. Faça um programa que use um laço while para somar todos os números de 1 a 10 e exiba o resultado no console."
      ],
      "metadata": {
        "id": "nd44EYm0QQTW"
      }
    },
    {
      "cell_type": "code",
      "source": [
        "soma = 0\n",
        "i = 1\n",
        "while i <= 10:\n",
        "    soma += i\n",
        "    i += 1\n",
        "print(soma)\n"
      ],
      "metadata": {
        "colab": {
          "base_uri": "https://localhost:8080/"
        },
        "id": "GXCRLIEMDOy0",
        "outputId": "1b20244b-dc53-40ec-906a-4f944217b514"
      },
      "execution_count": null,
      "outputs": [
        {
          "output_type": "stream",
          "name": "stdout",
          "text": [
            "55\n"
          ]
        }
      ]
    },
    {
      "cell_type": "markdown",
      "source": [
        "4. Crie um programa que declare um dicionário com as seguintes chaves e valores: {\"nome\": \"Ana\", \"idade\": 25, \"cidade\": \"Fortaleza\"} e exiba o valor associado à chave \"idade\""
      ],
      "metadata": {
        "id": "p8RPILj4QSuw"
      }
    },
    {
      "cell_type": "code",
      "source": [
        "dicionario = {\"nome\": \"Ana\", \"idade\": 25, \"cidade\": \"Fortaleza\"}\n",
        "print(dicionario[\"idade\"])\n"
      ],
      "metadata": {
        "id": "Vcj_N7KdDOkc"
      },
      "execution_count": null,
      "outputs": []
    },
    {
      "cell_type": "markdown",
      "source": [
        "5. Escreva um programa que inverta uma string utilizando um laço for. Por exemplo, para a string \"Python\", o resultado deve ser \"nohtyP\"."
      ],
      "metadata": {
        "id": "ZbgUDlLiQacw"
      }
    },
    {
      "cell_type": "code",
      "source": [
        "texto = \"Python\"\n",
        "texto_invertido = \"\"\n",
        "for i in range(len(texto)-1, -1, -1):\n",
        "    texto_invertido += texto[i]\n",
        "print(texto_invertido)\n"
      ],
      "metadata": {
        "id": "1bP2xCygDOaN"
      },
      "execution_count": null,
      "outputs": []
    },
    {
      "cell_type": "markdown",
      "source": [
        "6. Escreva um programa que calcule a frequência de cada caractere em uma string. Por exemplo, na string \"banana\", o programa deve exibir: {'b': 1, 'a': 3, 'n': 2}"
      ],
      "metadata": {
        "id": "yb7-RvanQdSm"
      }
    },
    {
      "cell_type": "code",
      "source": [
        "texto = \"banana\"\n",
        "frequencia = {}\n",
        "for caractere in texto:\n",
        "    if caractere in frequencia:\n",
        "        frequencia[caractere] += 1\n",
        "    else:\n",
        "        frequencia[caractere] = 1\n",
        "print(frequencia)\n"
      ],
      "metadata": {
        "id": "zL9cs2nNDOIX"
      },
      "execution_count": null,
      "outputs": []
    }
  ]
}