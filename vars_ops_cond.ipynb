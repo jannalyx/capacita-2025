{
  "nbformat": 4,
  "nbformat_minor": 0,
  "metadata": {
    "colab": {
      "provenance": []
    },
    "kernelspec": {
      "name": "python3",
      "display_name": "Python 3"
    },
    "language_info": {
      "name": "python"
    }
  },
  "cells": [
    {
      "cell_type": "markdown",
      "source": [
        "1. Crie um programa que verifique se o número 15 é maior que 10 e exiba \"Sim\" ou \"Não\" no console."
      ],
      "metadata": {
        "id": "kVUj_SAJAkLc"
      }
    },
    {
      "cell_type": "code",
      "execution_count": null,
      "metadata": {
        "colab": {
          "base_uri": "https://localhost:8080/"
        },
        "id": "-Wh61Z2VAGE1",
        "outputId": "633e414d-5fda-4a83-e70a-f6cb7c460f66"
      },
      "outputs": [
        {
          "output_type": "stream",
          "name": "stdout",
          "text": [
            "Sim\n"
          ]
        }
      ],
      "source": [
        "numero = 15\n",
        "if numero > 10:\n",
        "    print(\"Sim\")\n",
        "else:\n",
        "    print(\"Não\")"
      ]
    },
    {
      "cell_type": "markdown",
      "source": [
        "2. Escreva um programa que use o operador ** para calcular 2³ e exiba o resultado."
      ],
      "metadata": {
        "id": "kF6LNguWRajw"
      }
    },
    {
      "cell_type": "code",
      "source": [
        "resultado = 2 ** 3\n",
        "print(resultado)"
      ],
      "metadata": {
        "colab": {
          "base_uri": "https://localhost:8080/"
        },
        "id": "OHG7uE9gAxl5",
        "outputId": "f6b4b60f-abf3-4b0c-ae17-65a8f469a1c9"
      },
      "execution_count": null,
      "outputs": [
        {
          "output_type": "stream",
          "name": "stdout",
          "text": [
            "8\n"
          ]
        }
      ]
    },
    {
      "cell_type": "markdown",
      "source": [
        "3. Crie um programa que use o operador * para repetir a string \"Oi!\" cinco vezes."
      ],
      "metadata": {
        "id": "-qd5NEGqRg2m"
      }
    },
    {
      "cell_type": "code",
      "source": [
        "mensagem = \"Oi!\" * 5\n",
        "print(mensagem)"
      ],
      "metadata": {
        "colab": {
          "base_uri": "https://localhost:8080/"
        },
        "id": "Caz_E74MA6V0",
        "outputId": "ca54d4dc-5124-4a75-fb18-432a3e54c431"
      },
      "execution_count": null,
      "outputs": [
        {
          "output_type": "stream",
          "name": "stdout",
          "text": [
            "Oi!Oi!Oi!Oi!Oi!\n"
          ]
        }
      ]
    },
    {
      "cell_type": "markdown",
      "source": [
        "4. Escreva um programa que calcule a média de três números inteiros 10, 20 e 30, e exiba no console se a média é maior, menor ou igual a 20."
      ],
      "metadata": {
        "id": "YnHns7pjRkFA"
      }
    },
    {
      "cell_type": "code",
      "source": [
        "numeros = [10, 20, 30]\n",
        "media = sum(numeros) / len(numeros)\n",
        "\n",
        "if media > 20:\n",
        "    print(\"A média é maior que 20\")\n",
        "elif media < 20:\n",
        "    print(\"A média é menor que 20\")\n",
        "else:\n",
        "    print(\"A média é igual a 20\")"
      ],
      "metadata": {
        "colab": {
          "base_uri": "https://localhost:8080/"
        },
        "id": "jvM1DIdwA7G5",
        "outputId": "87c2c117-f798-4564-ca3e-8cc3a4019bd7"
      },
      "execution_count": null,
      "outputs": [
        {
          "output_type": "stream",
          "name": "stdout",
          "text": [
            "A média é igual a 20\n"
          ]
        }
      ]
    },
    {
      "cell_type": "markdown",
      "source": [
        "5. Crie um programa que determine se o número 45 é divisível por 3 e por 5 simultaneamente. O programa deve exibir \"Divisível por 3 e 5\" ou \"Não é divisível."
      ],
      "metadata": {
        "id": "K1KbGmnNRmnV"
      }
    },
    {
      "cell_type": "code",
      "source": [
        "numero = 45\n",
        "if numero % 3 == 0 and numero % 5 == 0:\n",
        "    print(\"Divisível por 3 e 5\")\n",
        "else:\n",
        "    print(\"Não é divisível por 3 e 5\")"
      ],
      "metadata": {
        "colab": {
          "base_uri": "https://localhost:8080/"
        },
        "id": "0UEFDswdBBbZ",
        "outputId": "516ad5dd-55e2-4004-a211-447ab120baba"
      },
      "execution_count": null,
      "outputs": [
        {
          "output_type": "stream",
          "name": "stdout",
          "text": [
            "Divisível por 3 e 5\n"
          ]
        }
      ]
    }
  ]
}