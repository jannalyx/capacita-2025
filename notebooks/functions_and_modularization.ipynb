{
  "nbformat": 4,
  "nbformat_minor": 0,
  "metadata": {
    "colab": {
      "provenance": []
    },
    "kernelspec": {
      "name": "python3",
      "display_name": "Python 3"
    },
    "language_info": {
      "name": "python"
    }
  },
  "cells": [
    {
      "cell_type": "markdown",
      "source": [
        "1. Pense em um código em Python com duas funções. Uma função para calcular a área de um quadrado e outra função para calcular a área de um retângulo."
      ],
      "metadata": {
        "id": "NLK-fVE8bQ3b"
      }
    },
    {
      "cell_type": "code",
      "execution_count": null,
      "metadata": {
        "id": "pZ4L9GjoSELs"
      },
      "outputs": [],
      "source": [
        "def area_quadrado(lado):\n",
        "    return lado ** 2\n",
        "\n",
        "def area_retangulo(base, altura):\n",
        "    return base * altura\n",
        "\n",
        "lado_quadrado = 4\n",
        "base_retangulo = 5\n",
        "altura_retangulo = 3\n",
        "\n",
        "print(f\"A área do quadrado com lado {lado_quadrado} é: {area_quadrado(lado_quadrado)}\")\n",
        "print(f\"A área do retângulo com base {base_retangulo} e altura {altura_retangulo} é: {area_retangulo(base_retangulo, altura_retangulo)}\")"
      ]
    }
  ]
}