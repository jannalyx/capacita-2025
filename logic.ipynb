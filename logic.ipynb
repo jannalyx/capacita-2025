{
  "cells": [
    {
      "cell_type": "markdown",
      "metadata": {
        "id": "TvDWzVeFim1n"
      },
      "source": [
        "1. Escreva um programa que exiba o resultado da soma 25+17."
      ]
    },
    {
      "cell_type": "code",
      "execution_count": null,
      "metadata": {
        "colab": {
          "base_uri": "https://localhost:8080/"
        },
        "id": "Vt-DR9MbjQHw",
        "outputId": "cb372dc0-e00b-43d3-9ab3-9b2cadd7f8d5"
      },
      "outputs": [
        {
          "name": "stdout",
          "output_type": "stream",
          "text": [
            "42\n"
          ]
        }
      ],
      "source": [
        "resultado = 25 + 17\n",
        "print(resultado)"
      ]
    },
    {
      "cell_type": "markdown",
      "metadata": {
        "id": "clae0hABJ_AD"
      },
      "source": [
        "2. Faça um programa que calcule e exiba o resultado da expressão (12×8)+(45÷5)"
      ]
    },
    {
      "cell_type": "code",
      "execution_count": null,
      "metadata": {
        "colab": {
          "base_uri": "https://localhost:8080/"
        },
        "id": "BCAmiWGriaX6",
        "outputId": "f759dbe7-b2a3-40e0-8e88-1af189d33755"
      },
      "outputs": [
        {
          "name": "stdout",
          "output_type": "stream",
          "text": [
            "105.0\n"
          ]
        }
      ],
      "source": [
        "resultado = (12 * 8) + (45 / 5)\n",
        "print(resultado)\n"
      ]
    },
    {
      "cell_type": "markdown",
      "metadata": {
        "id": "XdiSPZBbKB1D"
      },
      "source": [
        "3. Crie um programa que exiba o valor da área de um círculo com raio 5. Fórmula: Área=π×raio² -  π=3.14159."
      ]
    },
    {
      "cell_type": "code",
      "execution_count": null,
      "metadata": {
        "colab": {
          "base_uri": "https://localhost:8080/"
        },
        "id": "rZxvxfX3i_B-",
        "outputId": "0e0423d4-1390-4401-d837-83aca54e8848"
      },
      "outputs": [
        {
          "name": "stdout",
          "output_type": "stream",
          "text": [
            "78.53975\n"
          ]
        }
      ],
      "source": [
        "import math\n",
        "\n",
        "raio = 5\n",
        "area = math.pi * (raio ** 2)\n",
        "print(area)"
      ]
    },
    {
      "cell_type": "markdown",
      "metadata": {
        "id": "VIpw9PZHKGnJ"
      },
      "source": [
        "4. Faça um programa que exiba o resultado do resto da divisão de 100 por 7."
      ]
    },
    {
      "cell_type": "code",
      "execution_count": null,
      "metadata": {
        "colab": {
          "base_uri": "https://localhost:8080/"
        },
        "id": "H5gkzSlLjOzX",
        "outputId": "ea4ac037-4e2e-45ef-8bda-7bda1cd1573c"
      },
      "outputs": [
        {
          "name": "stdout",
          "output_type": "stream",
          "text": [
            "2\n"
          ]
        }
      ],
      "source": [
        "resto = 100 % 7\n",
        "print(resto)"
      ]
    }
  ],
  "metadata": {
    "colab": {
      "provenance": []
    },
    "kernelspec": {
      "display_name": "Python 3",
      "name": "python3"
    },
    "language_info": {
      "name": "python"
    }
  },
  "nbformat": 4,
  "nbformat_minor": 0
}
